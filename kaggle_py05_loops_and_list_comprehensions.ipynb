{
  "cells": [
    {
      "metadata": {
        "_uuid": "a9b223f833af5d7d4b30dcaa9526784beda44a42"
      },
      "cell_type": "markdown",
      "source": "These exercises accompany the tutorial on [loops and list comprehensions](https://www.kaggle.com/colinmorris/loops-and-list-comprehensions).\n\nAs always, run the setup code below before working on the questions (and if you leave this notebook and come back later, remember to run the setup code again)."
    },
    {
      "metadata": {
        "_uuid": "7315e28bb2047152818fe5329dbc8ac38543d6d0",
        "trusted": true
      },
      "cell_type": "code",
      "source": "# SETUP. You don't need to worry for now about what this code does or how it works. If you're ever curious about the \n# code behind these exercises, it's available under an open source license here: https://github.com/Kaggle/learntools/\nfrom learntools.core import binder; binder.bind(globals())\nfrom learntools.python.ex5 import *\nprint('Setup complete.')",
      "execution_count": 1,
      "outputs": [
        {
          "output_type": "stream",
          "text": "Setup complete.\n",
          "name": "stdout"
        }
      ]
    },
    {
      "metadata": {
        "_uuid": "6b5da74446abb989458b8d34da17c97fde0f1114"
      },
      "cell_type": "markdown",
      "source": "# Exercises"
    },
    {
      "metadata": {
        "_uuid": "0c61efc2cc8d5a66f5c828368da28bda05b09806"
      },
      "cell_type": "markdown",
      "source": "## 1.\n\nHave you ever felt debugging involved a bit of luck? The following program has a bug. Try to identify the bug and fix it."
    },
    {
      "metadata": {
        "_uuid": "719e7040b5cfd8fcf7db391d7f5f228a40984a22",
        "trusted": true
      },
      "cell_type": "code",
      "source": "def has_lucky_number(nums):\n    \"\"\"Return whether the given list of numbers is lucky. A lucky list contains\n    at least one number divisible by 7.\n    \"\"\"\n    for num in nums:\n        if num % 7 == 0:\n            return True\n        else:\n            return False",
      "execution_count": 2,
      "outputs": []
    },
    {
      "metadata": {
        "_uuid": "f74749e92eb93c36034bf34abec292ce415a6ac8"
      },
      "cell_type": "markdown",
      "source": "Try to identify the bug and fix it in the cell below:"
    },
    {
      "metadata": {
        "_uuid": "301b8818fa19b3cf1e7c3bdca470f446b3f240e4",
        "trusted": true
      },
      "cell_type": "code",
      "source": "def has_lucky_number(nums):\n    \"\"\"Return whether the given list of numbers is lucky. A lucky list contains\n    at least one number divisible by 7.\n    \"\"\"\n    for num in nums:\n        if num % 7 == 0:\n            return True\n    return False\n\nq1.check()",
      "execution_count": 3,
      "outputs": [
        {
          "output_type": "display_data",
          "data": {
            "text/plain": "<IPython.core.display.Javascript object>",
            "application/javascript": "parent.postMessage({\"jupyterEvent\": \"custom.exercise_interaction\", \"data\": {\"outcomeType\": 1, \"valueTowardsCompletion\": 0.3333333333333333, \"interactionType\": 1, \"learnTutorialId\": 110, \"questionId\": \"1_EarlyExitDebugging\", \"learnToolsVersion\": \"0.2.6\", \"failureMessage\": \"\", \"exceptionClass\": \"\", \"trace\": \"\"}}, \"*\")"
          },
          "metadata": {}
        },
        {
          "output_type": "display_data",
          "data": {
            "text/plain": "Correct: \n\nRemember that `return` causes a function to exit immediately. So our original implementation always ran for just one iteration. We can only return `False` if we've looked at every element of the list (and confirmed that none of them are lucky). Though we can return early if the answer is `True`:\n\n```python\ndef has_lucky_number(nums):\n    for num in nums:\n        if num % 7 == 0:\n            return True\n    # We've exhausted the list without finding a lucky number\n    return False\n```\n\nHere's a one-line version using a list comprehension with Python's `any` function (you can read about what it does by calling `help(any)`):\n\n```python\ndef has_lucky_number(nums):\n    return any([num % 7 == 0 for num in nums])\n```",
            "text/markdown": "<span style=\"color:#33cc33\">Correct:</span> \n\nRemember that `return` causes a function to exit immediately. So our original implementation always ran for just one iteration. We can only return `False` if we've looked at every element of the list (and confirmed that none of them are lucky). Though we can return early if the answer is `True`:\n\n```python\ndef has_lucky_number(nums):\n    for num in nums:\n        if num % 7 == 0:\n            return True\n    # We've exhausted the list without finding a lucky number\n    return False\n```\n\nHere's a one-line version using a list comprehension with Python's `any` function (you can read about what it does by calling `help(any)`):\n\n```python\ndef has_lucky_number(nums):\n    return any([num % 7 == 0 for num in nums])\n```\n"
          },
          "metadata": {}
        }
      ]
    },
    {
      "metadata": {
        "_uuid": "9a5b3c78c0c54e4652309bd8d6fd0983f36d8fad",
        "trusted": true
      },
      "cell_type": "code",
      "source": "q1.hint()\nq1.solution()",
      "execution_count": null,
      "outputs": []
    },
    {
      "metadata": {
        "_uuid": "befc53759c26ffbebab9dfc29a52101ffca2ee5e"
      },
      "cell_type": "markdown",
      "source": "## 2.\n\n### a.\nLook at the Python expression below. What do you think we'll get when we run it? When you've made your prediction, uncomment the code and run the cell to see if you were right."
    },
    {
      "metadata": {
        "_uuid": "9fc3bb91836219fa4a18331a6f097abc1eeb3018",
        "trusted": true
      },
      "cell_type": "code",
      "source": "[1, 2, 3, 4] > 2",
      "execution_count": 4,
      "outputs": [
        {
          "output_type": "error",
          "ename": "TypeError",
          "evalue": "'>' not supported between instances of 'list' and 'int'",
          "traceback": [
            "\u001b[0;31m---------------------------------------------------------------------------\u001b[0m",
            "\u001b[0;31mTypeError\u001b[0m                                 Traceback (most recent call last)",
            "\u001b[0;32m<ipython-input-4-6f064fcfe2b9>\u001b[0m in \u001b[0;36m<module>\u001b[0;34m()\u001b[0m\n\u001b[0;32m----> 1\u001b[0;31m \u001b[0;34m[\u001b[0m\u001b[0;36m1\u001b[0m\u001b[0;34m,\u001b[0m \u001b[0;36m2\u001b[0m\u001b[0;34m,\u001b[0m \u001b[0;36m3\u001b[0m\u001b[0;34m,\u001b[0m \u001b[0;36m4\u001b[0m\u001b[0;34m]\u001b[0m \u001b[0;34m>\u001b[0m \u001b[0;36m2\u001b[0m\u001b[0;34m\u001b[0m\u001b[0m\n\u001b[0m",
            "\u001b[0;31mTypeError\u001b[0m: '>' not supported between instances of 'list' and 'int'"
          ]
        }
      ]
    },
    {
      "metadata": {
        "_uuid": "ceede92c62bb620c9895bb6bf561e79f30a3e90f"
      },
      "cell_type": "markdown",
      "source": "### b\nIf you’ve used R or certain Python libraries like numpy or pandas, you might have expected that when we ran the above code, Python would compare each element of the list to 2 (i.e. do an 'element-wise' comparison) and give us a list of booleans like `[False, False, True, True]`. \n\nImplement a function that reproduces this behaviour, returning a list of booleans corresponding to whether the corresponding element is greater than n.\n"
    },
    {
      "metadata": {
        "_uuid": "fde4aa7ec2466bd642fc49db74f3c5ed6e4a39d4",
        "trusted": true
      },
      "cell_type": "code",
      "source": "def elementwise_greater_than(L, thresh):\n    \"\"\"Return a list with the same length as L, where the value at index i is \n    True if L[i] is greater than thresh, and False otherwise.\n    \n    >>> elementwise_greater_than([1, 2, 3, 4], 2)\n    [False, False, True, True]\n    \"\"\"\n    i = 0\n    for num in L:\n        if num > thresh:\n            L[i] = True\n        else:\n            L[i] = False\n        i += 1\n    return L\n\nq2.check()",
      "execution_count": 5,
      "outputs": [
        {
          "output_type": "display_data",
          "data": {
            "text/plain": "<IPython.core.display.Javascript object>",
            "application/javascript": "parent.postMessage({\"jupyterEvent\": \"custom.exercise_interaction\", \"data\": {\"outcomeType\": 1, \"valueTowardsCompletion\": 0.3333333333333333, \"interactionType\": 1, \"learnTutorialId\": 110, \"questionId\": \"2_ElementWiseComparison\", \"learnToolsVersion\": \"0.2.6\", \"failureMessage\": \"\", \"exceptionClass\": \"\", \"trace\": \"\"}}, \"*\")"
          },
          "metadata": {}
        },
        {
          "output_type": "display_data",
          "data": {
            "text/plain": "Correct: \n\nHere's one solution:\n```python\ndef elementwise_greater_than(L, thresh):\n    res = []\n    for ele in L:\n        res.append(ele > thresh)\n    return res\n```\n\nAnd here's the list comprehension version:\n```python\ndef elementwise_greater_than(L, thresh):\n    return [ele > thresh for ele in L]\n```",
            "text/markdown": "<span style=\"color:#33cc33\">Correct:</span> \n\nHere's one solution:\n```python\ndef elementwise_greater_than(L, thresh):\n    res = []\n    for ele in L:\n        res.append(ele > thresh)\n    return res\n```\n\nAnd here's the list comprehension version:\n```python\ndef elementwise_greater_than(L, thresh):\n    return [ele > thresh for ele in L]\n```\n"
          },
          "metadata": {}
        }
      ]
    },
    {
      "metadata": {
        "collapsed": true,
        "_uuid": "7fa1fcdd332d076adedb3517e20286bc9fa6beb6",
        "trusted": false
      },
      "cell_type": "code",
      "source": "#q2.solution()",
      "execution_count": null,
      "outputs": []
    },
    {
      "metadata": {
        "_uuid": "e335b6c8db2ada3af94be008a2ffeac062f402e0"
      },
      "cell_type": "markdown",
      "source": "## 3.\n\nComplete the body of the function below according to its docstring"
    },
    {
      "metadata": {
        "_uuid": "442dc6d619f4ee3807451e24ada23341f01759d7",
        "trusted": true
      },
      "cell_type": "code",
      "source": "def menu_is_boring(meals):\n    \"\"\"Given a list of meals served over some period of time, return True if the\n    same meal has ever been served two days in a row, and False otherwise.\n    \"\"\"\n    last_meal = 0\n    for meal in meals:\n        if meal == last_meal:\n            return True\n        else:\n            last_meal = meal\n    return False\n\nq3.check()",
      "execution_count": 6,
      "outputs": [
        {
          "output_type": "display_data",
          "data": {
            "text/plain": "<IPython.core.display.Javascript object>",
            "application/javascript": "parent.postMessage({\"jupyterEvent\": \"custom.exercise_interaction\", \"data\": {\"outcomeType\": 1, \"valueTowardsCompletion\": 0.3333333333333333, \"interactionType\": 1, \"learnTutorialId\": 110, \"questionId\": \"3_BoringMenu\", \"learnToolsVersion\": \"0.2.6\", \"failureMessage\": \"\", \"exceptionClass\": \"\", \"trace\": \"\"}}, \"*\")"
          },
          "metadata": {}
        },
        {
          "output_type": "display_data",
          "data": {
            "text/plain": "Correct: \n\n\n\n```python\ndef menu_is_boring(meals):\n    # Iterate over all indices of the list, except the last one\n    for i in range(len(meals)-1):\n        if meals[i] == meals[i+1]:\n            return True\n    return False\n```\n\nThe key to our solution is the call to `range`. `range(len(meals))` would give us all the indices of `meals`. If we had used that range, the last iteration of the loop would be comparing the last element to the element after it, which is... `IndexError`! `range(len(meals)-1)` gives us all the indices except the index of the last element.\n\nBut don't we need to check if `meals` is empty? Turns out that `range(0) == range(-1)` - they're both empty. So if `meals` has length 0 or 1, we just won't do any iterations of our for loop.",
            "text/markdown": "<span style=\"color:#33cc33\">Correct:</span> \n\n\n\n```python\ndef menu_is_boring(meals):\n    # Iterate over all indices of the list, except the last one\n    for i in range(len(meals)-1):\n        if meals[i] == meals[i+1]:\n            return True\n    return False\n```\n\nThe key to our solution is the call to `range`. `range(len(meals))` would give us all the indices of `meals`. If we had used that range, the last iteration of the loop would be comparing the last element to the element after it, which is... `IndexError`! `range(len(meals)-1)` gives us all the indices except the index of the last element.\n\nBut don't we need to check if `meals` is empty? Turns out that `range(0) == range(-1)` - they're both empty. So if `meals` has length 0 or 1, we just won't do any iterations of our for loop.\n"
          },
          "metadata": {}
        }
      ]
    },
    {
      "metadata": {
        "collapsed": true,
        "_uuid": "0300145b6dd7ca2de6e9a0de222c7b9fae3c0513",
        "trusted": false
      },
      "cell_type": "code",
      "source": "#q3.hint()\n#q3.solution()",
      "execution_count": null,
      "outputs": []
    },
    {
      "metadata": {
        "_uuid": "441ac192031bcb28104f14d3fdb47672f55fb0d5"
      },
      "cell_type": "markdown",
      "source": "## 4. <span title=\"A bit spicy\" style=\"color: darkgreen \">🌶️</span>\n\nNext to the Blackjack table, the Python Challenge Casino has a slot machine. You can get a result from the slot machine by calling `play_slot_machine()`. The number it returns is your winnings in dollars. Usually it returns 0.  But sometimes you'll get lucky and get a big payday. Try running it below:"
    },
    {
      "metadata": {
        "_uuid": "f695503c4050b9b2db9553cebc8e55a6f0ea8cae",
        "trusted": true
      },
      "cell_type": "code",
      "source": "play_slot_machine()",
      "execution_count": 7,
      "outputs": [
        {
          "output_type": "execute_result",
          "execution_count": 7,
          "data": {
            "text/plain": "0"
          },
          "metadata": {}
        }
      ]
    },
    {
      "metadata": {
        "_uuid": "7e7a8c9dfb82acb42658ab1f414262c84f47d40c"
      },
      "cell_type": "markdown",
      "source": "By the way, did we mention that each play costs $1? Don't worry, we'll send you the bill later.\n\nOn average, how much money can you expect to gain (or lose) every time you play the machine?  The casino keeps it a secret, but you can estimate the average value of each pull using a technique called the **Monte Carlo method**. To estimate the average outcome, we simulate the scenario many times, and return the average result.\n\nComplete the following function to calculate the average value per play of the slot machine."
    },
    {
      "metadata": {
        "_uuid": "f8244e59cbeaba0ad9a47a3cc3d78b0b6931a474",
        "trusted": true
      },
      "cell_type": "code",
      "source": "def estimate_average_slot_payout(n_runs):\n    \"\"\"Run the slot machine n_runs times and return the average net profit per run.\n    Example calls (note that return value is nondeterministic!):\n    >>> estimate_average_slot_payout(1)\n    -1\n    >>> estimate_average_slot_payout(1)\n    0.5\n    \"\"\"\n    profits = 0\n    for run in range(n_runs):\n        profits += play_slot_machine()\n    return (profits - 1)/n_runs\n\nestimate_average_slot_payout(100)",
      "execution_count": 8,
      "outputs": [
        {
          "output_type": "execute_result",
          "execution_count": 8,
          "data": {
            "text/plain": "0.625"
          },
          "metadata": {}
        }
      ]
    },
    {
      "metadata": {
        "_uuid": "7f827e1e7b972677f13159d3122cfc609620b8ff"
      },
      "cell_type": "markdown",
      "source": "When you think you know the expected value per spin, uncomment the line below to see how close you were."
    },
    {
      "metadata": {
        "_uuid": "39e8a1bcdf516ce70208890eff86cfe62e21c9dd",
        "trusted": true
      },
      "cell_type": "code",
      "source": "q4.solution()",
      "execution_count": null,
      "outputs": []
    },
    {
      "metadata": {
        "_uuid": "9cb9880f1e590420a4d7ee24d55acbf0aa733b34"
      },
      "cell_type": "markdown",
      "source": "## 5. <span title=\"Spicy\" style=\"color: coral\">🌶️🌶️</span>\n\nGary wants to know how many spins he can play before running out of money. (Remember, each turn at the slot machine costs $1.)\n\nSo, if he has $10, he can definitely play 10 spins (because he'll have enough money to pay for the 10th spin even if he never wins). But he could only play an 11th spin if his total winnings from the first 10 was enough to pay for the 11th spin. How likely is that?\n\nYou will estimate the probability with the Monte Carlo method. That is, you will simulate the scenario many times, and return the proportion of simulations where he ran out of money before a desired number of spins. \n\nComplete the function below to estimate the probability that he can complete a given number of spins of the machine before running out of money."
    },
    {
      "metadata": {
        "_uuid": "bf4af4fa47113cac918dba1f4ca2545bed108831",
        "trusted": true
      },
      "cell_type": "code",
      "source": "def slots_survival_probability(start_balance, n_spins, n_simulations):\n    \"\"\"Return the approximate probability (as a number between 0 and 1) that we can complete the \n    given number of spins of the slot machine before running out of money, assuming we start \n    with the given balance. Estimate the probability by running the scenario the specified number of times.\n    \n    >>> slots_survival_probability(10.00, 10, 1000)\n    1.0\n    >>> slots_survival_probability(1.00, 2, 1000)\n    .25\n    \"\"\"\n    successes = 0\n    for _ in range(n_simulations):\n        balance = start_balance\n        spins_left = n_spins\n        while balance >= 1 and spins_left:\n            balance -= 1\n            balance += play_slot_machine()\n            spins_left -= 1\n        if spins_left == 0:\n            successes += 1\n    return successes / n_simulations\n\nq5.check()",
      "execution_count": 13,
      "outputs": [
        {
          "output_type": "display_data",
          "data": {
            "text/plain": "<IPython.core.display.Javascript object>",
            "application/javascript": "parent.postMessage({\"jupyterEvent\": \"custom.exercise_interaction\", \"data\": {\"outcomeType\": 1, \"valueTowardsCompletion\": 0.02702702702702703, \"interactionType\": 1, \"learnTutorialId\": 110, \"questionId\": \"5_SlotsSurvival\", \"learnToolsVersion\": \"0.2.6\", \"failureMessage\": \"\", \"exceptionClass\": \"\", \"trace\": \"\"}}, \"*\")"
          },
          "metadata": {}
        },
        {
          "output_type": "display_data",
          "data": {
            "text/plain": "Correct",
            "text/markdown": "<span style=\"color:#33cc33\">Correct</span>"
          },
          "metadata": {}
        }
      ]
    },
    {
      "metadata": {
        "_uuid": "e98a3fd098885ea9c1a87479f7d3158966919f05"
      },
      "cell_type": "markdown",
      "source": "If you have any questions, be sure to post them on the [forums](https://www.kaggle.com/learn-forum).\n\nRemember that your notebook is private by default, and in order to share it with other people or ask for help with it, you'll need to make it public. First, you'll need to save a version of your notebook that shows your current work by hitting the \"Commit & Run\" button. (Your work is saved automatically, but versioning your work lets you go back and look at what it was like at the point you saved it. It also let's you share a nice compiled notebook instead of just the raw code.) Then, once your notebook is finished running, you can go to the Settings tab in the panel to the left (you may have to expand it by hitting the [<] button next to the \"Commit & Run\" button) and setting the \"Visibility\" dropdown to \"Public\".\n\n# Keep Going\n\nWhen you're ready to continue, [click here](https://www.kaggle.com/colinmorris/strings-and-dictionaries) to continue on to the next tutorial on strings and dictionaries."
    }
  ],
  "metadata": {
    "kernelspec": {
      "display_name": "Python 3",
      "language": "python",
      "name": "python3"
    },
    "language_info": {
      "name": "python",
      "version": "3.6.6",
      "mimetype": "text/x-python",
      "codemirror_mode": {
        "name": "ipython",
        "version": 3
      },
      "pygments_lexer": "ipython3",
      "nbconvert_exporter": "python",
      "file_extension": ".py"
    },
    "learntools_metadata": {
      "lesson_index": 4,
      "type": "exercise"
    }
  },
  "nbformat": 4,
  "nbformat_minor": 1
}