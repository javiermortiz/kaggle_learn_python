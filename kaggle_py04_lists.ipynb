{
  "cells": [
    {
      "metadata": {
        "_uuid": "2dd41140c301fae23d2e408bea4b5195cc4f7927"
      },
      "cell_type": "markdown",
      "source": "These exercises accompany the tutorial on [lists and tuples](https://www.kaggle.com/colinmorris/lists).\n\nAs always be sure to run the setup code below before working on the questions (and if you leave this notebook and come back later, don't forget to run the setup code again)."
    },
    {
      "metadata": {
        "_uuid": "927a2b8e68a7e03a2aed67fb5315e75a85b548d5",
        "trusted": true
      },
      "cell_type": "code",
      "source": "# SETUP. You don't need to worry for now about what this code does or how it works. If you're ever curious about the \n# code behind these exercises, it's available under an open source license here: https://github.com/Kaggle/learntools/\nfrom learntools.core import binder; binder.bind(globals())\nfrom learntools.python.ex4 import *\nprint('Setup complete.')",
      "execution_count": 1,
      "outputs": [
        {
          "output_type": "stream",
          "text": "Setup complete.\n",
          "name": "stdout"
        }
      ]
    },
    {
      "metadata": {
        "_uuid": "09b9e05ec45276fe6f0c4c53e6df33ef6f929eb4"
      },
      "cell_type": "markdown",
      "source": "# Exercises"
    },
    {
      "metadata": {
        "_uuid": "e83cefb3fb88d6641883c517407697850cf86119"
      },
      "cell_type": "markdown",
      "source": "## 1.\n\nComplete the function below according to its docstring."
    },
    {
      "metadata": {
        "_uuid": "e976908ca461891edc64c025137822005b14ef93",
        "trusted": true
      },
      "cell_type": "code",
      "source": "def select_second(L):\n    \"\"\"Return the second element of the given list. If the list has no second\n    element, return None.\n    \"\"\"\n    if len(L) > 2:\n        return L[1]\n    else:\n        return None\nq1.check()",
      "execution_count": 2,
      "outputs": [
        {
          "output_type": "display_data",
          "data": {
            "text/plain": "<IPython.core.display.Javascript object>",
            "application/javascript": "parent.postMessage({\"jupyterEvent\": \"custom.exercise_interaction\", \"data\": {\"outcomeType\": 1, \"valueTowardsCompletion\": 0.2, \"interactionType\": 1, \"learnTutorialId\": 108, \"questionId\": \"1_SelectSecondItem\", \"learnToolsVersion\": \"0.2.6\", \"failureMessage\": \"\", \"exceptionClass\": \"\", \"trace\": \"\"}}, \"*\")"
          },
          "metadata": {}
        },
        {
          "output_type": "display_data",
          "data": {
            "text/plain": "Correct",
            "text/markdown": "<span style=\"color:#33cc33\">Correct</span>"
          },
          "metadata": {}
        }
      ]
    },
    {
      "metadata": {
        "_uuid": "5556a32a552eb8d79f2665d06c978c222f3af7b8",
        "trusted": true
      },
      "cell_type": "code",
      "source": "#q1.hint()\nq1.solution()",
      "execution_count": null,
      "outputs": []
    },
    {
      "metadata": {
        "_uuid": "adb96bbb1e10ac7b74f3b02b959c19b7ffde759e"
      },
      "cell_type": "markdown",
      "source": "## 2.\n\nYou are analyzing sports teams.  Members of each team are stored in a list. The Coach is the first name in the list, the captain is the second name in the list, and other players are listed after that. \nThese lists are stored in another list, which starts with the best team and proceeds through the list to the worst team last.  Complete the function below to select the **captain** of the worst team."
    },
    {
      "metadata": {
        "_uuid": "b80ea7583002f15ed46d6768d843acce53b76e53",
        "trusted": true
      },
      "cell_type": "code",
      "source": "def losing_team_captain(teams):\n    \"\"\"Given a list of teams, where each team is a list of names, return the 2nd player (captain)\n    from the last listed team\n    \"\"\"\n    return teams[-1][1]\n\nq2.check()",
      "execution_count": 3,
      "outputs": [
        {
          "output_type": "display_data",
          "data": {
            "text/plain": "<IPython.core.display.Javascript object>",
            "application/javascript": "parent.postMessage({\"jupyterEvent\": \"custom.exercise_interaction\", \"data\": {\"outcomeType\": 1, \"valueTowardsCompletion\": 0.2, \"interactionType\": 1, \"learnTutorialId\": 108, \"questionId\": \"2_LosingTeamCaptain\", \"learnToolsVersion\": \"0.2.6\", \"failureMessage\": \"\", \"exceptionClass\": \"\", \"trace\": \"\"}}, \"*\")"
          },
          "metadata": {}
        },
        {
          "output_type": "display_data",
          "data": {
            "text/plain": "Correct",
            "text/markdown": "<span style=\"color:#33cc33\">Correct</span>"
          },
          "metadata": {}
        }
      ]
    },
    {
      "metadata": {
        "_uuid": "470a0ccaaed12b78b9969307d3a54a925635ec5b",
        "trusted": true
      },
      "cell_type": "code",
      "source": "#q2.hint()\nq2.solution()",
      "execution_count": null,
      "outputs": []
    },
    {
      "metadata": {
        "_uuid": "31b61272a3ab466445d3e36f6c1bf90a2bc8514a"
      },
      "cell_type": "markdown",
      "source": "## 3.\n\nThe next iteration of Mario Kart will feature an extra-infuriating new item, the *Purple Shell*. When used, it warps the last place racer into first place and the first place racer into last place. Complete the function below to implement the Purple Shell's effect."
    },
    {
      "metadata": {
        "_uuid": "68e4e4dd6291975df07447130aff7cc85c7f0a06",
        "trusted": true
      },
      "cell_type": "code",
      "source": "def purple_shell(racers):\n    \"\"\"Given a list of racers, set the first place racer (at the front of the list) to last\n    place and vice versa.\n    \n    >>> r = [\"Mario\", \"Bowser\", \"Luigi\"]\n    >>> purple_shell(r)\n    >>> r\n    [\"Luigi\", \"Bowser\", \"Mario\"]\n    \"\"\"\n    first = racers[0]\n    last = racers[-1]\n    racers[0] = last\n    racers[-1] = first\n\nq3.check()",
      "execution_count": 5,
      "outputs": [
        {
          "output_type": "display_data",
          "data": {
            "text/plain": "<IPython.core.display.Javascript object>",
            "application/javascript": "parent.postMessage({\"jupyterEvent\": \"custom.exercise_interaction\", \"data\": {\"outcomeType\": 1, \"valueTowardsCompletion\": 0.2, \"interactionType\": 1, \"learnTutorialId\": 108, \"questionId\": \"3_PurpleShell\", \"learnToolsVersion\": \"0.2.6\", \"failureMessage\": \"\", \"exceptionClass\": \"\", \"trace\": \"\"}}, \"*\")"
          },
          "metadata": {}
        },
        {
          "output_type": "display_data",
          "data": {
            "text/plain": "Correct",
            "text/markdown": "<span style=\"color:#33cc33\">Correct</span>"
          },
          "metadata": {}
        }
      ]
    },
    {
      "metadata": {
        "_uuid": "5d42ccc23f7a13ee6ec2ed491d9548a8e247032e",
        "trusted": true
      },
      "cell_type": "code",
      "source": "#q3.hint()\nq3.solution()",
      "execution_count": null,
      "outputs": []
    },
    {
      "metadata": {
        "_uuid": "bae4b6c69d33455c0df0d32a6b36f2cde8b24440"
      },
      "cell_type": "markdown",
      "source": "## 4.\n\nWhat are the lengths of the following lists? Fill in the variable `lengths` with your predictions. (Try to make a prediction for each list *without* just calling `len()` on it.)"
    },
    {
      "metadata": {
        "_uuid": "0fea1c6a6c15de728ef540e53d5fe60e6a784103",
        "trusted": true
      },
      "cell_type": "code",
      "source": "a = [1, 2, 3]\nb = [1, [2, 3]]\nc = []\nd = [1, 2, 3][1:]\n\n# Put your predictions in the list below. Lengths should contain 4 numbers, the\n# first being the length of a, the second being the length of b and so on.\nlengths = [3, 2, 0, 2]\n\nq4.check()",
      "execution_count": 7,
      "outputs": [
        {
          "output_type": "display_data",
          "data": {
            "text/plain": "<IPython.core.display.Javascript object>",
            "application/javascript": "parent.postMessage({\"jupyterEvent\": \"custom.exercise_interaction\", \"data\": {\"outcomeType\": 1, \"valueTowardsCompletion\": 0.2, \"interactionType\": 1, \"learnTutorialId\": 108, \"questionId\": \"4_UnderstandLen\", \"learnToolsVersion\": \"0.2.6\", \"failureMessage\": \"\", \"exceptionClass\": \"\", \"trace\": \"\"}}, \"*\")"
          },
          "metadata": {}
        },
        {
          "output_type": "display_data",
          "data": {
            "text/plain": "Correct: \n\n\n- a: There are three items in this list. Nothing tricky yet.\n- b: The list `[2, 3]` counts as a single item. It has one item before it. So we have 2 items in the list\n- c: The empty list has 0 items\n- d: The expression is the same as the list `[2, 3]`, which has length 2.",
            "text/markdown": "<span style=\"color:#33cc33\">Correct:</span> \n\n\n- a: There are three items in this list. Nothing tricky yet.\n- b: The list `[2, 3]` counts as a single item. It has one item before it. So we have 2 items in the list\n- c: The empty list has 0 items\n- d: The expression is the same as the list `[2, 3]`, which has length 2."
          },
          "metadata": {}
        }
      ]
    },
    {
      "metadata": {
        "collapsed": true,
        "_uuid": "cf40acb2e52923933a94b756915fe01965a3f50c",
        "trusted": false
      },
      "cell_type": "code",
      "source": "# line below provides some explanation\n#q4.solution()",
      "execution_count": null,
      "outputs": []
    },
    {
      "metadata": {
        "_uuid": "d81c8cfdae014025978f60056fb9fd44dc6cc484"
      },
      "cell_type": "markdown",
      "source": "## 5. <span title=\"A bit spicy\" style=\"color: darkgreen \">🌶️</span>\n\nWe're using lists to record people who attended our party and what order they arrived in. For example, the following list represents a party with 7 guests, in which Adela showed up first and Ford was the last to arrive:\n\n    party_attendees = ['Adela', 'Fleda', 'Owen', 'May', 'Mona', 'Gilbert', 'Ford']\n\nA guest is considered 'fashionably late' if they arrived after at least half of the party's guests. However, they must not be the very last guest (that's taking it too far). In the above example, Mona and Gilbert are the only guests who were fashionably late.\n\nComplete the function below which takes a list of party attendees as well as a person, and tells us whether that person is fashionably late."
    },
    {
      "metadata": {
        "_uuid": "881523e2740f7bec4d1a868b6b5d906b1231fd02",
        "trusted": true
      },
      "cell_type": "code",
      "source": "def fashionably_late(arrivals, name):\n    \"\"\"Given an ordered list of arrivals to the party and a name, return whether the guest with that\n    name was fashionably late.\n    \"\"\"\n    position = arrivals.index(name) # To compensate for the 0 index of python\n    if position >= len(arrivals)/2 and name != arrivals[-1]:\n        return True\n    else:\n        return False\n    \n\nq5.check()",
      "execution_count": 8,
      "outputs": [
        {
          "output_type": "display_data",
          "data": {
            "text/plain": "<IPython.core.display.Javascript object>",
            "application/javascript": "parent.postMessage({\"jupyterEvent\": \"custom.exercise_interaction\", \"data\": {\"outcomeType\": 1, \"valueTowardsCompletion\": 0.2, \"interactionType\": 1, \"learnTutorialId\": 108, \"questionId\": \"5_FashionablyLate\", \"learnToolsVersion\": \"0.2.6\", \"failureMessage\": \"\", \"exceptionClass\": \"\", \"trace\": \"\"}}, \"*\")"
          },
          "metadata": {}
        },
        {
          "output_type": "display_data",
          "data": {
            "text/plain": "Correct",
            "text/markdown": "<span style=\"color:#33cc33\">Correct</span>"
          },
          "metadata": {}
        }
      ]
    },
    {
      "metadata": {
        "_uuid": "c306c5697bf6280c125b8af33a3bce9d0f654bc6",
        "trusted": true
      },
      "cell_type": "code",
      "source": "#q5.hint()\nq5.solution()",
      "execution_count": null,
      "outputs": []
    },
    {
      "metadata": {
        "_uuid": "5f56eb7dd9e64c485944b1fb7100cda14993cc5a"
      },
      "cell_type": "markdown",
      "source": "## 6. <span style=\"color: firebrick\" title=\"This is an optional extra-spicy question\">🌶️🌶️🌶️</span>\n\n*This question is intended more as a fun riddle than a test of your programming prowess :)*\n\nImplement the body of the following function **using only tools we've covered so far - NO LOOPS!**"
    },
    {
      "metadata": {
        "_uuid": "7644e58282b6739d1ec16c65679fec6b994fe2bb",
        "trusted": true
      },
      "cell_type": "code",
      "source": "def count_negatives(nums):\n    \"\"\"Return the number of negative numbers in the given list.\n    \n    >>> count_negatives([5, -1, -2, 0, 3])\n    2\n    \"\"\"\n    addition = 0\n    for num in nums:\n        if num < 0:\n            addition += 1\n    return addition\n\nq6.check()",
      "execution_count": 9,
      "outputs": [
        {
          "output_type": "display_data",
          "data": {
            "text/plain": "<IPython.core.display.Javascript object>",
            "application/javascript": "parent.postMessage({\"jupyterEvent\": \"custom.exercise_interaction\", \"data\": {\"outcomeType\": 1, \"valueTowardsCompletion\": 0.02702702702702703, \"interactionType\": 1, \"learnTutorialId\": 108, \"questionId\": \"6_CountNegativesRiddle\", \"learnToolsVersion\": \"0.2.6\", \"failureMessage\": \"\", \"exceptionClass\": \"\", \"trace\": \"\"}}, \"*\")"
          },
          "metadata": {}
        },
        {
          "output_type": "display_data",
          "data": {
            "text/plain": "Correct: \n\n\nHere's a non-obvious solution using only tools shown in the tutorial notebook:\n```python\ndef count_negatives(nums):\n    nums.append(0)\n    # We could also have used the list.sort() method, which modifies a list, putting it in sorted order.\n    nums = sorted(nums)\n    return nums.index(0)\n```\n\nThe above implementation relies on the fact that `list.index` returns the index of the *first* occurrence of a value. (You can verify this by calling `help(list.index)`.) So if, after sorting the list in ascending order, the value 0 is at index 0, then the number of negatives is 0. If 0 is at index 2 (i.e. the third element), then there are two elements smaller than 0. And so on.\n\n*Note*: it's usually considered \"impolite\" to modify a list that someone passes to your function without giving them some warning (i.e. unless the docstring says that it modifies its input). So, if we wanted to be nice, we could have started by making a copy of nums using the `list.copy()` method (e.g. `our_nums = nums.copy()`), and then working with that copy rather than the original.\n\nIf you're a big Lisp fan, you might have written this technically compliant solution (we haven't talked about recursion, but I guess this doesn't use any syntax or functions we haven't seen yet...):\n\n```python\ndef count_negatives(nums):\n    # Equivalent to \"if len(nums) == 0\". An empty list is 'falsey'.\n    if not nums:\n        return 0\n    else:\n        # Implicitly converting a boolean to an int! See question 6 of the\n        # exercise on booleans and conditionals\n        return (nums[0] < 0) + count_negatives(nums[1:])\n```",
            "text/markdown": "<span style=\"color:#33cc33\">Correct:</span> \n\n\nHere's a non-obvious solution using only tools shown in the tutorial notebook:\n```python\ndef count_negatives(nums):\n    nums.append(0)\n    # We could also have used the list.sort() method, which modifies a list, putting it in sorted order.\n    nums = sorted(nums)\n    return nums.index(0)\n```\n\nThe above implementation relies on the fact that `list.index` returns the index of the *first* occurrence of a value. (You can verify this by calling `help(list.index)`.) So if, after sorting the list in ascending order, the value 0 is at index 0, then the number of negatives is 0. If 0 is at index 2 (i.e. the third element), then there are two elements smaller than 0. And so on.\n\n*Note*: it's usually considered \"impolite\" to modify a list that someone passes to your function without giving them some warning (i.e. unless the docstring says that it modifies its input). So, if we wanted to be nice, we could have started by making a copy of nums using the `list.copy()` method (e.g. `our_nums = nums.copy()`), and then working with that copy rather than the original.\n\nIf you're a big Lisp fan, you might have written this technically compliant solution (we haven't talked about recursion, but I guess this doesn't use any syntax or functions we haven't seen yet...):\n\n```python\ndef count_negatives(nums):\n    # Equivalent to \"if len(nums) == 0\". An empty list is 'falsey'.\n    if not nums:\n        return 0\n    else:\n        # Implicitly converting a boolean to an int! See question 6 of the\n        # exercise on booleans and conditionals\n        return (nums[0] < 0) + count_negatives(nums[1:])\n```"
          },
          "metadata": {}
        }
      ]
    },
    {
      "metadata": {
        "collapsed": true,
        "_uuid": "e5add3a9d7b41224a34cfc2efc2790806dac5de0",
        "trusted": false
      },
      "cell_type": "code",
      "source": "#q6.hint()",
      "execution_count": null,
      "outputs": []
    },
    {
      "metadata": {
        "collapsed": true,
        "_uuid": "a01c3185deedaac0b888a2fb8810a2d6b96a044b",
        "trusted": false
      },
      "cell_type": "code",
      "source": "#q6.solution()",
      "execution_count": null,
      "outputs": []
    },
    {
      "metadata": {
        "_uuid": "d7f0feed7c9725b797e32fe45ae1abf7badebb09"
      },
      "cell_type": "markdown",
      "source": "That's it for lists and tuples! If you have any questions or feedback (or just want to argue about whether Pluto should be a planet), head over to the [forums](https://kaggle.com/learn-forum).\n\nRemember that your notebook is private by default, and in order to share it with other people or ask for help with it, you'll need to make it public. First, you'll need to save a version of your notebook that shows your current work by hitting the \"Commit & Run\" button. (Your work is saved automatically, but versioning your work lets you go back and look at what it was like at the point you saved it. It also let's you share a nice compiled notebook instead of just the raw code.) Then, once your notebook is finished running, you can go to the Settings tab in the panel to the left (you may have to expand it by hitting the [<] button next to the \"Commit & Run\" button) and setting the \"Visibility\" dropdown to \"Public\".\n\n# Keep Going\n\nWhen you're ready to continue, [click here](https://www.kaggle.com/colinmorris/loops-and-list-comprehensions) to continue on to the next tutorial on loops and list comprehensions."
    }
  ],
  "metadata": {
    "kernelspec": {
      "display_name": "Python 3",
      "language": "python",
      "name": "python3"
    },
    "language_info": {
      "name": "python",
      "version": "3.6.6",
      "mimetype": "text/x-python",
      "codemirror_mode": {
        "name": "ipython",
        "version": 3
      },
      "pygments_lexer": "ipython3",
      "nbconvert_exporter": "python",
      "file_extension": ".py"
    },
    "learntools_metadata": {
      "lesson_index": 3,
      "type": "exercise"
    }
  },
  "nbformat": 4,
  "nbformat_minor": 1
}